{
 "cells": [
  {
   "cell_type": "markdown",
   "metadata": {},
   "source": [
    "#### Dynamic Programming\n",
    "- Example Gridworld\n",
    "- Policy Evaluation"
   ]
  },
  {
   "cell_type": "code",
   "execution_count": 9,
   "metadata": {},
   "outputs": [],
   "source": [
    "import numpy as np\n",
    "import matplotlib\n",
    "import matplotlib.pyplot as plt\n",
    "from matplotlib.table import Table\n",
    "\n",
    "matplotlib.use('Agg')"
   ]
  },
  {
   "cell_type": "code",
   "execution_count": 60,
   "metadata": {},
   "outputs": [],
   "source": [
    "WORLD_SIZE = 4                    # The size of the environment 4x4\n",
    "DISCOUNT = 1                    # Discount parameter\n",
    "ACTIONS = [np.array([0, -1]),\n",
    "           np.array([-1, 0]),\n",
    "           np.array([0, 1]),\n",
    "           np.array([1, 0])]      # Sets of Action\n",
    "ACTION_PROB = 0.25                # Policy"
   ]
  },
  {
   "attachments": {},
   "cell_type": "markdown",
   "metadata": {},
   "source": [
    "- Stats sets = {1, 2, 3, 4, 5, 6, 7, 8, 9, 10, 11, 12, 13, 14}\n",
    "- The 4x4 gridworld shown below.\n",
    "<img src=\"Gridworld.PNG\" style=\"width:500px;height:500px;\">"
   ]
  },
  {
   "cell_type": "code",
   "execution_count": 61,
   "metadata": {},
   "outputs": [],
   "source": [
    "def is_terminal(state):\n",
    "    \n",
    "    \"\"\"\n",
    "    Define the Terminal State\n",
    "    \"\"\"\n",
    "    \n",
    "    x, y = state\n",
    "    return (x == 0 and y == 0) or (x == WORLD_SIZE - 1 and y == WORLD_SIZE - 1)"
   ]
  },
  {
   "cell_type": "code",
   "execution_count": 62,
   "metadata": {},
   "outputs": [],
   "source": [
    "def step(state, action):\n",
    "    \n",
    "    \"\"\"\n",
    "    Define the step of agent and reward recieved\n",
    "    Argument:\n",
    "    state : current state\n",
    "    action : action that takes\n",
    "    Return:\n",
    "    New state\n",
    "    Reward    \n",
    "    \"\"\"\n",
    "    \n",
    "    if is_terminal(state):\n",
    "        return state, 0\n",
    "    \n",
    "    next_state = (np.array(state) + action).tolist()\n",
    "    x, y = next_state\n",
    "    if x < 0 or x >= WORLD_SIZE or y < 0 or y >= WORLD_SIZE:\n",
    "    \n",
    "        next_state = state\n",
    "        \n",
    "    reward = -1.0\n",
    "    return next_state, reward"
   ]
  },
  {
   "cell_type": "code",
   "execution_count": 63,
   "metadata": {},
   "outputs": [],
   "source": [
    "def draw_image(image):\n",
    "    \"\"\"\n",
    "    Dawing The Image of our environment (Gridworld)\n",
    "    \"\"\"\n",
    "    \n",
    "    fig, ax = plt.subplots()\n",
    "    ax.set_axis_off()\n",
    "    tb = Table(ax, bbox = [0, 0, 1, 1])\n",
    "\n",
    "    nrows, ncols = image.shape\n",
    "    width, height = 1.0 / ncols, 1.0 / nrows\n",
    "\n",
    "    # Add cells\n",
    "    for (i, j), val in np.ndenumerate(image):     \n",
    "        tb.add_cell(i, j, width, height, text = val, loc = 'center', facecolor = 'white')\n",
    "    # Row and column labels...\n",
    "    for i in range(len(image)):\n",
    "        tb.add_cell(i, -1, width, height, text = i + 1, loc = 'right', edgecolor = 'none', facecolor = 'none')\n",
    "        tb.add_cell(-1, i, width, height / 2, text = i + 1, loc = 'center', edgecolor = 'none', facecolor = 'none')\n",
    "\n",
    "    ax.add_table(tb)"
   ]
  },
  {
   "cell_type": "code",
   "execution_count": 120,
   "metadata": {},
   "outputs": [],
   "source": [
    "def policy_eval(in_place=True,  theta=0.00001):\n",
    "    \"\"\"\n",
    "    Evaluate a policy given an environment and a full description of the environment's dynamics.\n",
    "    \n",
    "    Args:\n",
    "        \n",
    "        theta: We stop evaluation once our value function change is less than theta for all states.\n",
    "        discount_factor: Gamma discount factor.\n",
    "    \n",
    "    Returns:\n",
    "        Vector of length WORLD_SIZE representing the value function.\n",
    "    \"\"\"\n",
    "    new_state_values = np.zeros((WORLD_SIZE, WORLD_SIZE))       # Start with a random (all 0) value function\n",
    "    iteration = 0\n",
    "    \n",
    "    while True:\n",
    "        \n",
    "        if in_place:\n",
    "            state_values = new_state_values\n",
    "        else:\n",
    "            state_values = new_state_values.copy()\n",
    "        old_state_values = state_values.copy()\n",
    "        \n",
    "        \n",
    "        for i in range(WORLD_SIZE):\n",
    "            for j in range(WORLD_SIZE):\n",
    "                value = 0\n",
    "                for action in ACTIONS:\n",
    "                    (next_i, next_j), reward = step([i, j], action)\n",
    "                    value += ACTION_PROB * (reward + DISCOUNT * state_values[next_i, next_j])\n",
    "                new_state_values[i, j] = value\n",
    "                \n",
    "        \n",
    "        delta_value = abs(old_state_values - new_state_values).max()\n",
    "        \n",
    "        if delta_value < theta:\n",
    "            break\n",
    "\n",
    "        iteration += 1\n",
    "        stateValue = {\"V\" : new_state_values, \"iteration\" : iteration}\n",
    "        \n",
    "    return stateValue"
   ]
  },
  {
   "cell_type": "code",
   "execution_count": 135,
   "metadata": {},
   "outputs": [],
   "source": [
    "A = policy_eval(in_place=True,  theta=0.001)"
   ]
  },
  {
   "cell_type": "code",
   "execution_count": 136,
   "metadata": {},
   "outputs": [
    {
     "name": "stdout",
     "output_type": "stream",
     "text": [
      "The state value after 87 equal :\n",
      " [[  0.         -13.99330608 -19.99037659 -21.98940765]\n",
      " [-13.99330608 -17.99178568 -19.99108113 -19.99118312]\n",
      " [-19.99037659 -19.99108113 -17.99247411 -13.99438108]\n",
      " [-21.98940765 -19.99118312 -13.99438108   0.        ]]\n"
     ]
    }
   ],
   "source": [
    "print(\"The state value after\", A[\"iteration\"] , \"equal :\\n\", A[\"V\"])"
   ]
  },
  {
   "cell_type": "code",
   "execution_count": 137,
   "metadata": {},
   "outputs": [],
   "source": [
    "B = policy_eval(in_place=False,  theta=0.001)"
   ]
  },
  {
   "cell_type": "code",
   "execution_count": 138,
   "metadata": {},
   "outputs": [
    {
     "data": {
      "text/plain": [
       "{'V': array([[  0.        , -13.98945772, -19.98437823, -21.98251832],\n",
       "        [-13.98945772, -17.98623815, -19.98448273, -19.98437823],\n",
       "        [-19.98437823, -19.98448273, -17.98623815, -13.98945772],\n",
       "        [-21.98251832, -19.98437823, -13.98945772,   0.        ]]),\n",
       " 'iteration': 130}"
      ]
     },
     "execution_count": 138,
     "metadata": {},
     "output_type": "execute_result"
    }
   ],
   "source": [
    "B"
   ]
  },
  {
   "cell_type": "code",
   "execution_count": 140,
   "metadata": {},
   "outputs": [
    {
     "data": {
      "text/plain": [
       "87"
      ]
     },
     "execution_count": 140,
     "metadata": {},
     "output_type": "execute_result"
    }
   ],
   "source": [
    "it = A[\"iteration\"]\n",
    "it"
   ]
  },
  {
   "cell_type": "code",
   "execution_count": 141,
   "metadata": {},
   "outputs": [
    {
     "data": {
      "text/plain": [
       "130"
      ]
     },
     "execution_count": 141,
     "metadata": {},
     "output_type": "execute_result"
    }
   ],
   "source": [
    "itt = B[\"iteration\"]\n",
    "itt"
   ]
  },
  {
   "cell_type": "code",
   "execution_count": 143,
   "metadata": {},
   "outputs": [
    {
     "name": "stdout",
     "output_type": "stream",
     "text": [
      "In-place: 31 iterations\n",
      "Synchronous: 45 iterations\n"
     ]
    },
    {
     "data": {
      "image/png": "[encoded data removed]",
      "text/plain": [
       "<Figure size 432x288 with 1 Axes>"
      ]
     },
     "metadata": {
      "needs_background": "light"
     },
     "output_type": "display_data"
    }
   ],
   "source": [
    "values = B[\"V\"]\n",
    "draw_image(np.round(values, decimals=2))\n",
    "print('In-place: {} iterations'.format(asycn_iteration))\n",
    "print('Synchronous: {} iterations'.format(sync_iteration))\n",
    "\n",
    "plt.show()"
   ]
  },
  {
   "cell_type": "code",
   "execution_count": null,
   "metadata": {},
   "outputs": [],
   "source": []
  },
  {
   "cell_type": "code",
   "execution_count": null,
   "metadata": {},
   "outputs": [],
   "source": []
  }
 ],
 "metadata": {
  "kernelspec": {
   "display_name": "Python 3",
   "language": "python",
   "name": "python3"
  },
  "language_info": {
   "codemirror_mode": {
    "name": "ipython",
    "version": 3
   },
   "file_extension": ".py",
   "mimetype": "text/x-python",
   "name": "python",
   "nbconvert_exporter": "python",
   "pygments_lexer": "ipython3",
   "version": "3.7.4"
  }
 },
 "nbformat": 4,
 "nbformat_minor": 2
}
